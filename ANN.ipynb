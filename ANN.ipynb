{
  "nbformat": 4,
  "nbformat_minor": 0,
  "metadata": {
    "colab": {
      "name": "ANN.ipynb",
      "version": "0.3.2",
      "provenance": []
    },
    "kernelspec": {
      "name": "python3",
      "display_name": "Python 3"
    }
  },
  "cells": [
    {
      "cell_type": "code",
      "metadata": {
        "id": "Nms3zopUei5B",
        "colab_type": "code",
        "colab": {
          "base_uri": "https://localhost:8080/",
          "height": 34
        },
        "outputId": "333e81d0-8275-4b82-d2d8-dc204f43bde7"
      },
      "source": [
        "from keras.models import Sequential\n",
        "from keras.layers import Dense\n",
        "import numpy as np"
      ],
      "execution_count": 1,
      "outputs": [
        {
          "output_type": "stream",
          "text": [
            "Using TensorFlow backend.\n"
          ],
          "name": "stderr"
        }
      ]
    },
    {
      "cell_type": "code",
      "metadata": {
        "id": "8I-kqODAe3DI",
        "colab_type": "code",
        "colab": {}
      },
      "source": [
        "from sklearn.datasets import load_iris\n",
        "from sklearn.preprocessing import StandardScaler,OneHotEncoder\n",
        "from sklearn.model_selection import train_test_split"
      ],
      "execution_count": 0,
      "outputs": []
    },
    {
      "cell_type": "code",
      "metadata": {
        "id": "IGxhZ-AUfAy_",
        "colab_type": "code",
        "colab": {}
      },
      "source": [
        "iris = load_iris()"
      ],
      "execution_count": 0,
      "outputs": []
    },
    {
      "cell_type": "code",
      "metadata": {
        "id": "ZM9VyLe3fJYw",
        "colab_type": "code",
        "colab": {}
      },
      "source": [
        ""
      ],
      "execution_count": 0,
      "outputs": []
    },
    {
      "cell_type": "code",
      "metadata": {
        "colab_type": "code",
        "id": "-SmcuWJFfKS2",
        "colab": {}
      },
      "source": [
        ""
      ],
      "execution_count": 0,
      "outputs": []
    },
    {
      "cell_type": "code",
      "metadata": {
        "colab_type": "code",
        "id": "3Oj0Xm-efLcV",
        "colab": {
          "base_uri": "https://localhost:8080/",
          "height": 1000
        },
        "outputId": "e11aebd8-a08e-4f80-b64a-d9be9aebbf4b"
      },
      "source": [
        "print(iris.feature_names)#Attributes\n",
        "print(iris.target_names)#Class Label\n",
        "print(iris.DESCR)#dataset description\n",
        "print(iris.data)#print the data"
      ],
      "execution_count": 7,
      "outputs": [
        {
          "output_type": "stream",
          "text": [
            "['sepal length (cm)', 'sepal width (cm)', 'petal length (cm)', 'petal width (cm)']\n",
            "['setosa' 'versicolor' 'virginica']\n",
            ".. _iris_dataset:\n",
            "\n",
            "Iris plants dataset\n",
            "--------------------\n",
            "\n",
            "**Data Set Characteristics:**\n",
            "\n",
            "    :Number of Instances: 150 (50 in each of three classes)\n",
            "    :Number of Attributes: 4 numeric, predictive attributes and the class\n",
            "    :Attribute Information:\n",
            "        - sepal length in cm\n",
            "        - sepal width in cm\n",
            "        - petal length in cm\n",
            "        - petal width in cm\n",
            "        - class:\n",
            "                - Iris-Setosa\n",
            "                - Iris-Versicolour\n",
            "                - Iris-Virginica\n",
            "                \n",
            "    :Summary Statistics:\n",
            "\n",
            "    ============== ==== ==== ======= ===== ====================\n",
            "                    Min  Max   Mean    SD   Class Correlation\n",
            "    ============== ==== ==== ======= ===== ====================\n",
            "    sepal length:   4.3  7.9   5.84   0.83    0.7826\n",
            "    sepal width:    2.0  4.4   3.05   0.43   -0.4194\n",
            "    petal length:   1.0  6.9   3.76   1.76    0.9490  (high!)\n",
            "    petal width:    0.1  2.5   1.20   0.76    0.9565  (high!)\n",
            "    ============== ==== ==== ======= ===== ====================\n",
            "\n",
            "    :Missing Attribute Values: None\n",
            "    :Class Distribution: 33.3% for each of 3 classes.\n",
            "    :Creator: R.A. Fisher\n",
            "    :Donor: Michael Marshall (MARSHALL%PLU@io.arc.nasa.gov)\n",
            "    :Date: July, 1988\n",
            "\n",
            "The famous Iris database, first used by Sir R.A. Fisher. The dataset is taken\n",
            "from Fisher's paper. Note that it's the same as in R, but not as in the UCI\n",
            "Machine Learning Repository, which has two wrong data points.\n",
            "\n",
            "This is perhaps the best known database to be found in the\n",
            "pattern recognition literature.  Fisher's paper is a classic in the field and\n",
            "is referenced frequently to this day.  (See Duda & Hart, for example.)  The\n",
            "data set contains 3 classes of 50 instances each, where each class refers to a\n",
            "type of iris plant.  One class is linearly separable from the other 2; the\n",
            "latter are NOT linearly separable from each other.\n",
            "\n",
            ".. topic:: References\n",
            "\n",
            "   - Fisher, R.A. \"The use of multiple measurements in taxonomic problems\"\n",
            "     Annual Eugenics, 7, Part II, 179-188 (1936); also in \"Contributions to\n",
            "     Mathematical Statistics\" (John Wiley, NY, 1950).\n",
            "   - Duda, R.O., & Hart, P.E. (1973) Pattern Classification and Scene Analysis.\n",
            "     (Q327.D83) John Wiley & Sons.  ISBN 0-471-22361-1.  See page 218.\n",
            "   - Dasarathy, B.V. (1980) \"Nosing Around the Neighborhood: A New System\n",
            "     Structure and Classification Rule for Recognition in Partially Exposed\n",
            "     Environments\".  IEEE Transactions on Pattern Analysis and Machine\n",
            "     Intelligence, Vol. PAMI-2, No. 1, 67-71.\n",
            "   - Gates, G.W. (1972) \"The Reduced Nearest Neighbor Rule\".  IEEE Transactions\n",
            "     on Information Theory, May 1972, 431-433.\n",
            "   - See also: 1988 MLC Proceedings, 54-64.  Cheeseman et al\"s AUTOCLASS II\n",
            "     conceptual clustering system finds 3 classes in the data.\n",
            "   - Many, many more ...\n",
            "[[5.1 3.5 1.4 0.2]\n",
            " [4.9 3.  1.4 0.2]\n",
            " [4.7 3.2 1.3 0.2]\n",
            " [4.6 3.1 1.5 0.2]\n",
            " [5.  3.6 1.4 0.2]\n",
            " [5.4 3.9 1.7 0.4]\n",
            " [4.6 3.4 1.4 0.3]\n",
            " [5.  3.4 1.5 0.2]\n",
            " [4.4 2.9 1.4 0.2]\n",
            " [4.9 3.1 1.5 0.1]\n",
            " [5.4 3.7 1.5 0.2]\n",
            " [4.8 3.4 1.6 0.2]\n",
            " [4.8 3.  1.4 0.1]\n",
            " [4.3 3.  1.1 0.1]\n",
            " [5.8 4.  1.2 0.2]\n",
            " [5.7 4.4 1.5 0.4]\n",
            " [5.4 3.9 1.3 0.4]\n",
            " [5.1 3.5 1.4 0.3]\n",
            " [5.7 3.8 1.7 0.3]\n",
            " [5.1 3.8 1.5 0.3]\n",
            " [5.4 3.4 1.7 0.2]\n",
            " [5.1 3.7 1.5 0.4]\n",
            " [4.6 3.6 1.  0.2]\n",
            " [5.1 3.3 1.7 0.5]\n",
            " [4.8 3.4 1.9 0.2]\n",
            " [5.  3.  1.6 0.2]\n",
            " [5.  3.4 1.6 0.4]\n",
            " [5.2 3.5 1.5 0.2]\n",
            " [5.2 3.4 1.4 0.2]\n",
            " [4.7 3.2 1.6 0.2]\n",
            " [4.8 3.1 1.6 0.2]\n",
            " [5.4 3.4 1.5 0.4]\n",
            " [5.2 4.1 1.5 0.1]\n",
            " [5.5 4.2 1.4 0.2]\n",
            " [4.9 3.1 1.5 0.2]\n",
            " [5.  3.2 1.2 0.2]\n",
            " [5.5 3.5 1.3 0.2]\n",
            " [4.9 3.6 1.4 0.1]\n",
            " [4.4 3.  1.3 0.2]\n",
            " [5.1 3.4 1.5 0.2]\n",
            " [5.  3.5 1.3 0.3]\n",
            " [4.5 2.3 1.3 0.3]\n",
            " [4.4 3.2 1.3 0.2]\n",
            " [5.  3.5 1.6 0.6]\n",
            " [5.1 3.8 1.9 0.4]\n",
            " [4.8 3.  1.4 0.3]\n",
            " [5.1 3.8 1.6 0.2]\n",
            " [4.6 3.2 1.4 0.2]\n",
            " [5.3 3.7 1.5 0.2]\n",
            " [5.  3.3 1.4 0.2]\n",
            " [7.  3.2 4.7 1.4]\n",
            " [6.4 3.2 4.5 1.5]\n",
            " [6.9 3.1 4.9 1.5]\n",
            " [5.5 2.3 4.  1.3]\n",
            " [6.5 2.8 4.6 1.5]\n",
            " [5.7 2.8 4.5 1.3]\n",
            " [6.3 3.3 4.7 1.6]\n",
            " [4.9 2.4 3.3 1. ]\n",
            " [6.6 2.9 4.6 1.3]\n",
            " [5.2 2.7 3.9 1.4]\n",
            " [5.  2.  3.5 1. ]\n",
            " [5.9 3.  4.2 1.5]\n",
            " [6.  2.2 4.  1. ]\n",
            " [6.1 2.9 4.7 1.4]\n",
            " [5.6 2.9 3.6 1.3]\n",
            " [6.7 3.1 4.4 1.4]\n",
            " [5.6 3.  4.5 1.5]\n",
            " [5.8 2.7 4.1 1. ]\n",
            " [6.2 2.2 4.5 1.5]\n",
            " [5.6 2.5 3.9 1.1]\n",
            " [5.9 3.2 4.8 1.8]\n",
            " [6.1 2.8 4.  1.3]\n",
            " [6.3 2.5 4.9 1.5]\n",
            " [6.1 2.8 4.7 1.2]\n",
            " [6.4 2.9 4.3 1.3]\n",
            " [6.6 3.  4.4 1.4]\n",
            " [6.8 2.8 4.8 1.4]\n",
            " [6.7 3.  5.  1.7]\n",
            " [6.  2.9 4.5 1.5]\n",
            " [5.7 2.6 3.5 1. ]\n",
            " [5.5 2.4 3.8 1.1]\n",
            " [5.5 2.4 3.7 1. ]\n",
            " [5.8 2.7 3.9 1.2]\n",
            " [6.  2.7 5.1 1.6]\n",
            " [5.4 3.  4.5 1.5]\n",
            " [6.  3.4 4.5 1.6]\n",
            " [6.7 3.1 4.7 1.5]\n",
            " [6.3 2.3 4.4 1.3]\n",
            " [5.6 3.  4.1 1.3]\n",
            " [5.5 2.5 4.  1.3]\n",
            " [5.5 2.6 4.4 1.2]\n",
            " [6.1 3.  4.6 1.4]\n",
            " [5.8 2.6 4.  1.2]\n",
            " [5.  2.3 3.3 1. ]\n",
            " [5.6 2.7 4.2 1.3]\n",
            " [5.7 3.  4.2 1.2]\n",
            " [5.7 2.9 4.2 1.3]\n",
            " [6.2 2.9 4.3 1.3]\n",
            " [5.1 2.5 3.  1.1]\n",
            " [5.7 2.8 4.1 1.3]\n",
            " [6.3 3.3 6.  2.5]\n",
            " [5.8 2.7 5.1 1.9]\n",
            " [7.1 3.  5.9 2.1]\n",
            " [6.3 2.9 5.6 1.8]\n",
            " [6.5 3.  5.8 2.2]\n",
            " [7.6 3.  6.6 2.1]\n",
            " [4.9 2.5 4.5 1.7]\n",
            " [7.3 2.9 6.3 1.8]\n",
            " [6.7 2.5 5.8 1.8]\n",
            " [7.2 3.6 6.1 2.5]\n",
            " [6.5 3.2 5.1 2. ]\n",
            " [6.4 2.7 5.3 1.9]\n",
            " [6.8 3.  5.5 2.1]\n",
            " [5.7 2.5 5.  2. ]\n",
            " [5.8 2.8 5.1 2.4]\n",
            " [6.4 3.2 5.3 2.3]\n",
            " [6.5 3.  5.5 1.8]\n",
            " [7.7 3.8 6.7 2.2]\n",
            " [7.7 2.6 6.9 2.3]\n",
            " [6.  2.2 5.  1.5]\n",
            " [6.9 3.2 5.7 2.3]\n",
            " [5.6 2.8 4.9 2. ]\n",
            " [7.7 2.8 6.7 2. ]\n",
            " [6.3 2.7 4.9 1.8]\n",
            " [6.7 3.3 5.7 2.1]\n",
            " [7.2 3.2 6.  1.8]\n",
            " [6.2 2.8 4.8 1.8]\n",
            " [6.1 3.  4.9 1.8]\n",
            " [6.4 2.8 5.6 2.1]\n",
            " [7.2 3.  5.8 1.6]\n",
            " [7.4 2.8 6.1 1.9]\n",
            " [7.9 3.8 6.4 2. ]\n",
            " [6.4 2.8 5.6 2.2]\n",
            " [6.3 2.8 5.1 1.5]\n",
            " [6.1 2.6 5.6 1.4]\n",
            " [7.7 3.  6.1 2.3]\n",
            " [6.3 3.4 5.6 2.4]\n",
            " [6.4 3.1 5.5 1.8]\n",
            " [6.  3.  4.8 1.8]\n",
            " [6.9 3.1 5.4 2.1]\n",
            " [6.7 3.1 5.6 2.4]\n",
            " [6.9 3.1 5.1 2.3]\n",
            " [5.8 2.7 5.1 1.9]\n",
            " [6.8 3.2 5.9 2.3]\n",
            " [6.7 3.3 5.7 2.5]\n",
            " [6.7 3.  5.2 2.3]\n",
            " [6.3 2.5 5.  1.9]\n",
            " [6.5 3.  5.2 2. ]\n",
            " [6.2 3.4 5.4 2.3]\n",
            " [5.9 3.  5.1 1.8]]\n"
          ],
          "name": "stdout"
        }
      ]
    },
    {
      "cell_type": "code",
      "metadata": {
        "id": "atk3DGFJgaN6",
        "colab_type": "code",
        "colab": {}
      },
      "source": [
        "input_data = iris.data#assign the iris data as input"
      ],
      "execution_count": 0,
      "outputs": []
    },
    {
      "cell_type": "code",
      "metadata": {
        "id": "nPhG8ix5ggaD",
        "colab_type": "code",
        "colab": {
          "base_uri": "https://localhost:8080/",
          "height": 136
        },
        "outputId": "71282ada-cdbe-48d5-a689-6911cc9405b9"
      },
      "source": [
        "target_class = iris.target#Assign class label to target_class\n",
        "iris['target']#listing the target"
      ],
      "execution_count": 10,
      "outputs": [
        {
          "output_type": "execute_result",
          "data": {
            "text/plain": [
              "array([0, 0, 0, 0, 0, 0, 0, 0, 0, 0, 0, 0, 0, 0, 0, 0, 0, 0, 0, 0, 0, 0,\n",
              "       0, 0, 0, 0, 0, 0, 0, 0, 0, 0, 0, 0, 0, 0, 0, 0, 0, 0, 0, 0, 0, 0,\n",
              "       0, 0, 0, 0, 0, 0, 1, 1, 1, 1, 1, 1, 1, 1, 1, 1, 1, 1, 1, 1, 1, 1,\n",
              "       1, 1, 1, 1, 1, 1, 1, 1, 1, 1, 1, 1, 1, 1, 1, 1, 1, 1, 1, 1, 1, 1,\n",
              "       1, 1, 1, 1, 1, 1, 1, 1, 1, 1, 1, 1, 2, 2, 2, 2, 2, 2, 2, 2, 2, 2,\n",
              "       2, 2, 2, 2, 2, 2, 2, 2, 2, 2, 2, 2, 2, 2, 2, 2, 2, 2, 2, 2, 2, 2,\n",
              "       2, 2, 2, 2, 2, 2, 2, 2, 2, 2, 2, 2, 2, 2, 2, 2, 2, 2])"
            ]
          },
          "metadata": {
            "tags": []
          },
          "execution_count": 10
        }
      ]
    },
    {
      "cell_type": "code",
      "metadata": {
        "id": "-jIlcgTCpXer",
        "colab_type": "code",
        "colab": {}
      },
      "source": [
        ""
      ],
      "execution_count": 0,
      "outputs": []
    },
    {
      "cell_type": "code",
      "metadata": {
        "id": "lwngoLFOg1Z8",
        "colab_type": "code",
        "colab": {}
      },
      "source": [
        "scaler = StandardScaler()#z-score normalizer\n",
        "input_scaled = scaler.fit_transform(input_data)#fit to the data and the transform it"
      ],
      "execution_count": 0,
      "outputs": []
    },
    {
      "cell_type": "code",
      "metadata": {
        "id": "h3pr0Km_jxuq",
        "colab_type": "code",
        "colab": {
          "base_uri": "https://localhost:8080/",
          "height": 105
        },
        "outputId": "03b7ebe3-0a19-4be2-c36a-184fbc620e13"
      },
      "source": [
        "#converting categorical data into interger value when ranking the categorical data is not possible to do better job in prediction\n",
        "enc = OneHotEncoder()\n",
        "hot_target_class = enc.fit_transform(target_class[:, np.newaxis]).toarray()"
      ],
      "execution_count": 13,
      "outputs": [
        {
          "output_type": "stream",
          "text": [
            "/usr/local/lib/python3.6/dist-packages/sklearn/preprocessing/_encoders.py:415: FutureWarning: The handling of integer data will change in version 0.22. Currently, the categories are determined based on the range [0, max(values)], while in the future they will be determined based on the unique values.\n",
            "If you want the future behaviour and silence this warning, you can specify \"categories='auto'\".\n",
            "In case you used a LabelEncoder before this OneHotEncoder to convert the categories to integers, then you can now use the OneHotEncoder directly.\n",
            "  warnings.warn(msg, FutureWarning)\n"
          ],
          "name": "stderr"
        }
      ]
    },
    {
      "cell_type": "code",
      "metadata": {
        "id": "OaSsvL5rlLVd",
        "colab_type": "code",
        "colab": {
          "base_uri": "https://localhost:8080/",
          "height": 782
        },
        "outputId": "bdab12f6-2a4b-421c-abb9-51c94a157c1b"
      },
      "source": [
        "#spliting the data into training and testing\n",
        "x_train,x_test,y_train,y_test = train_test_split(input_scaled,hot_target_class,test_size=0.3)\n",
        "x_train\n",
        "x_test"
      ],
      "execution_count": 15,
      "outputs": [
        {
          "output_type": "execute_result",
          "data": {
            "text/plain": [
              "array([[-0.65834543,  1.47939788, -1.2833891 , -1.3154443 ],\n",
              "       [ 0.18982966, -0.36217625,  0.42173371,  0.3957741 ],\n",
              "       [-1.02184904,  0.78880759, -1.2833891 , -1.3154443 ],\n",
              "       [ 0.67450115, -0.82256978,  0.87643312,  0.92230284],\n",
              "       [-1.02184904,  0.32841405, -1.45390138, -1.3154443 ],\n",
              "       [-0.90068117,  0.78880759, -1.2833891 , -1.3154443 ],\n",
              "       [-0.53717756,  1.93979142, -1.16971425, -1.05217993],\n",
              "       [ 1.2803405 ,  0.32841405,  1.10378283,  1.44883158],\n",
              "       [ 1.2803405 ,  0.09821729,  0.76275827,  1.44883158],\n",
              "       [-1.26418478, -0.13197948, -1.34022653, -1.18381211],\n",
              "       [-0.90068117, -1.28296331, -0.4308277 , -0.13075464],\n",
              "       [-1.50652052,  0.78880759, -1.34022653, -1.18381211],\n",
              "       [-0.17367395, -1.05276654, -0.14664056, -0.26238682],\n",
              "       [ 0.67450115, -0.36217625,  0.30805885,  0.13250973],\n",
              "       [ 0.18982966, -1.97355361,  0.13754657, -0.26238682],\n",
              "       [-0.17367395,  1.70959465, -1.16971425, -1.18381211],\n",
              "       [ 0.4321654 , -0.59237301,  0.59224599,  0.79067065],\n",
              "       [-0.29484182, -0.59237301,  0.64908342,  1.05393502],\n",
              "       [-1.74885626, -0.36217625, -1.34022653, -1.3154443 ],\n",
              "       [ 0.67450115,  0.32841405,  0.87643312,  1.44883158],\n",
              "       [-0.05250608, -0.59237301,  0.76275827,  1.58046376],\n",
              "       [-1.14301691, -1.51316008, -0.26031542, -0.26238682],\n",
              "       [-0.29484182, -0.13197948,  0.194384  ,  0.13250973],\n",
              "       [-0.53717756,  1.93979142, -1.39706395, -1.05217993],\n",
              "       [-1.74885626,  0.32841405, -1.39706395, -1.3154443 ],\n",
              "       [-0.41600969, -1.28296331,  0.13754657,  0.13250973],\n",
              "       [-1.50652052,  1.24920112, -1.56757623, -1.3154443 ],\n",
              "       [ 0.55333328,  0.55861082,  0.53540856,  0.52740629],\n",
              "       [-0.05250608,  2.16998818, -1.45390138, -1.3154443 ],\n",
              "       [ 0.79566902, -0.59237301,  0.47857113,  0.3957741 ],\n",
              "       [-1.02184904,  1.24920112, -1.34022653, -1.3154443 ],\n",
              "       [ 0.67450115,  0.32841405,  0.42173371,  0.3957741 ],\n",
              "       [-1.14301691, -1.28296331,  0.42173371,  0.65903847],\n",
              "       [ 1.03800476,  0.55861082,  1.10378283,  1.71209594],\n",
              "       [-0.53717756,  1.47939788, -1.2833891 , -1.3154443 ],\n",
              "       [-0.17367395,  3.09077525, -1.2833891 , -1.05217993],\n",
              "       [-0.41600969,  2.63038172, -1.34022653, -1.3154443 ],\n",
              "       [ 1.03800476, -0.13197948,  0.8195957 ,  1.44883158],\n",
              "       [ 2.24968346, -0.59237301,  1.6721571 ,  1.05393502],\n",
              "       [ 0.06866179, -0.13197948,  0.76275827,  0.79067065],\n",
              "       [ 0.55333328, -1.28296331,  0.64908342,  0.3957741 ],\n",
              "       [ 0.55333328,  0.78880759,  1.0469454 ,  1.58046376],\n",
              "       [-1.26418478,  0.78880759, -1.22655167, -1.3154443 ],\n",
              "       [ 1.03800476,  0.09821729,  0.36489628,  0.26414192],\n",
              "       [-1.26418478,  0.09821729, -1.22655167, -1.3154443 ]])"
            ]
          },
          "metadata": {
            "tags": []
          },
          "execution_count": 15
        }
      ]
    },
    {
      "cell_type": "code",
      "metadata": {
        "id": "POANWYZTl7sL",
        "colab_type": "code",
        "colab": {
          "base_uri": "https://localhost:8080/",
          "height": 88
        },
        "outputId": "4d65d7cc-1826-4665-b301-a4e1d60c9838"
      },
      "source": [
        "#creating the model as sequential \n",
        "#simplest neural network\n",
        "model = Sequential()"
      ],
      "execution_count": 16,
      "outputs": [
        {
          "output_type": "stream",
          "text": [
            "WARNING: Logging before flag parsing goes to stderr.\n",
            "W0820 05:53:51.374465 140319804749696 deprecation_wrapper.py:119] From /usr/local/lib/python3.6/dist-packages/keras/backend/tensorflow_backend.py:74: The name tf.get_default_graph is deprecated. Please use tf.compat.v1.get_default_graph instead.\n",
            "\n"
          ],
          "name": "stderr"
        }
      ]
    },
    {
      "cell_type": "code",
      "metadata": {
        "id": "PXHwdFogmHQD",
        "colab_type": "code",
        "colab": {
          "base_uri": "https://localhost:8080/",
          "height": 105
        },
        "outputId": "92df509b-163f-4712-de9d-90a61d593cb1"
      },
      "source": [
        "#adding multiple layer using dense function which is fully connected layout\n",
        "#input_dim means no of attributes\n",
        "#activation relu : rectified linear unit\n",
        "h1 = model.add(Dense(6,activation=\"relu\",input_dim=4))\n",
        "h2=model.add(Dense(5,activation=\"relu\"))\n",
        "h3=model.add(Dense(7,activation=\"relu\"))\n",
        "o = model.add(Dense(3,activation=\"softmax\"))\n"
      ],
      "execution_count": 17,
      "outputs": [
        {
          "output_type": "stream",
          "text": [
            "W0820 05:54:14.714065 140319804749696 deprecation_wrapper.py:119] From /usr/local/lib/python3.6/dist-packages/keras/backend/tensorflow_backend.py:517: The name tf.placeholder is deprecated. Please use tf.compat.v1.placeholder instead.\n",
            "\n",
            "W0820 05:54:14.727928 140319804749696 deprecation_wrapper.py:119] From /usr/local/lib/python3.6/dist-packages/keras/backend/tensorflow_backend.py:4138: The name tf.random_uniform is deprecated. Please use tf.random.uniform instead.\n",
            "\n"
          ],
          "name": "stderr"
        }
      ]
    },
    {
      "cell_type": "code",
      "metadata": {
        "id": "aHPa4LIAnQ2-",
        "colab_type": "code",
        "colab": {
          "base_uri": "https://localhost:8080/",
          "height": 105
        },
        "outputId": "45a1b321-3dc9-498c-ed22-ac7d8e16d680"
      },
      "source": [
        "model.compile(loss=\"categorical_crossentropy\",optimizer=\"Adam\",metrics=['accuracy'])"
      ],
      "execution_count": 18,
      "outputs": [
        {
          "output_type": "stream",
          "text": [
            "W0820 05:59:15.356119 140319804749696 deprecation_wrapper.py:119] From /usr/local/lib/python3.6/dist-packages/keras/optimizers.py:790: The name tf.train.Optimizer is deprecated. Please use tf.compat.v1.train.Optimizer instead.\n",
            "\n",
            "W0820 05:59:15.395827 140319804749696 deprecation_wrapper.py:119] From /usr/local/lib/python3.6/dist-packages/keras/backend/tensorflow_backend.py:3295: The name tf.log is deprecated. Please use tf.math.log instead.\n",
            "\n"
          ],
          "name": "stderr"
        }
      ]
    },
    {
      "cell_type": "code",
      "metadata": {
        "id": "zGMkEMGopaJN",
        "colab_type": "code",
        "colab": {
          "base_uri": "https://localhost:8080/",
          "height": 272
        },
        "outputId": "ab015abb-ee99-4321-89d4-8674271db5f7"
      },
      "source": [
        "#summary\n",
        "model.summary()"
      ],
      "execution_count": 19,
      "outputs": [
        {
          "output_type": "stream",
          "text": [
            "_________________________________________________________________\n",
            "Layer (type)                 Output Shape              Param #   \n",
            "=================================================================\n",
            "dense_1 (Dense)              (None, 6)                 30        \n",
            "_________________________________________________________________\n",
            "dense_2 (Dense)              (None, 5)                 35        \n",
            "_________________________________________________________________\n",
            "dense_3 (Dense)              (None, 7)                 42        \n",
            "_________________________________________________________________\n",
            "dense_4 (Dense)              (None, 3)                 24        \n",
            "=================================================================\n",
            "Total params: 131\n",
            "Trainable params: 131\n",
            "Non-trainable params: 0\n",
            "_________________________________________________________________\n"
          ],
          "name": "stdout"
        }
      ]
    },
    {
      "cell_type": "code",
      "metadata": {
        "id": "t1T2IuDpplPB",
        "colab_type": "code",
        "colab": {
          "base_uri": "https://localhost:8080/",
          "height": 1000
        },
        "outputId": "36ccb8ca-5273-4824-a9e0-383ad839d2bb"
      },
      "source": [
        "#fitting the model  using epochs\n",
        "model.fit(x_train,y_train,batch_size=10,epochs=50)"
      ],
      "execution_count": 20,
      "outputs": [
        {
          "output_type": "stream",
          "text": [
            "W0820 06:09:26.581053 140319804749696 deprecation.py:323] From /usr/local/lib/python3.6/dist-packages/tensorflow/python/ops/math_grad.py:1250: add_dispatch_support.<locals>.wrapper (from tensorflow.python.ops.array_ops) is deprecated and will be removed in a future version.\n",
            "Instructions for updating:\n",
            "Use tf.where in 2.0, which has the same broadcast rule as np.where\n",
            "W0820 06:09:26.642607 140319804749696 deprecation_wrapper.py:119] From /usr/local/lib/python3.6/dist-packages/keras/backend/tensorflow_backend.py:986: The name tf.assign_add is deprecated. Please use tf.compat.v1.assign_add instead.\n",
            "\n"
          ],
          "name": "stderr"
        },
        {
          "output_type": "stream",
          "text": [
            "Epoch 1/50\n",
            "105/105 [==============================] - 1s 7ms/step - loss: 1.0629 - acc: 0.5905\n",
            "Epoch 2/50\n",
            "105/105 [==============================] - 0s 212us/step - loss: 1.0492 - acc: 0.5810\n",
            "Epoch 3/50\n",
            "105/105 [==============================] - 0s 214us/step - loss: 1.0347 - acc: 0.5714\n",
            "Epoch 4/50\n",
            "105/105 [==============================] - 0s 220us/step - loss: 1.0175 - acc: 0.5714\n",
            "Epoch 5/50\n",
            "105/105 [==============================] - 0s 166us/step - loss: 0.9982 - acc: 0.5619\n",
            "Epoch 6/50\n",
            "105/105 [==============================] - 0s 150us/step - loss: 0.9759 - acc: 0.6476\n",
            "Epoch 7/50\n",
            "105/105 [==============================] - 0s 187us/step - loss: 0.9506 - acc: 0.6571\n",
            "Epoch 8/50\n",
            "105/105 [==============================] - 0s 163us/step - loss: 0.9219 - acc: 0.6476\n",
            "Epoch 9/50\n",
            "105/105 [==============================] - 0s 180us/step - loss: 0.8908 - acc: 0.6476\n",
            "Epoch 10/50\n",
            "105/105 [==============================] - 0s 176us/step - loss: 0.8564 - acc: 0.6476\n",
            "Epoch 11/50\n",
            "105/105 [==============================] - 0s 184us/step - loss: 0.8222 - acc: 0.6476\n",
            "Epoch 12/50\n",
            "105/105 [==============================] - 0s 147us/step - loss: 0.7854 - acc: 0.6476\n",
            "Epoch 13/50\n",
            "105/105 [==============================] - 0s 173us/step - loss: 0.7499 - acc: 0.6476\n",
            "Epoch 14/50\n",
            "105/105 [==============================] - 0s 164us/step - loss: 0.7146 - acc: 0.6476\n",
            "Epoch 15/50\n",
            "105/105 [==============================] - 0s 181us/step - loss: 0.6809 - acc: 0.6476\n",
            "Epoch 16/50\n",
            "105/105 [==============================] - 0s 186us/step - loss: 0.6514 - acc: 0.6476\n",
            "Epoch 17/50\n",
            "105/105 [==============================] - 0s 150us/step - loss: 0.6227 - acc: 0.6476\n",
            "Epoch 18/50\n",
            "105/105 [==============================] - 0s 185us/step - loss: 0.5980 - acc: 0.6476\n",
            "Epoch 19/50\n",
            "105/105 [==============================] - 0s 167us/step - loss: 0.5756 - acc: 0.6571\n",
            "Epoch 20/50\n",
            "105/105 [==============================] - 0s 194us/step - loss: 0.5554 - acc: 0.6762\n",
            "Epoch 21/50\n",
            "105/105 [==============================] - 0s 159us/step - loss: 0.5372 - acc: 0.6857\n",
            "Epoch 22/50\n",
            "105/105 [==============================] - 0s 161us/step - loss: 0.5211 - acc: 0.7238\n",
            "Epoch 23/50\n",
            "105/105 [==============================] - 0s 185us/step - loss: 0.5085 - acc: 0.7714\n",
            "Epoch 24/50\n",
            "105/105 [==============================] - 0s 185us/step - loss: 0.4952 - acc: 0.7905\n",
            "Epoch 25/50\n",
            "105/105 [==============================] - 0s 157us/step - loss: 0.4839 - acc: 0.8095\n",
            "Epoch 26/50\n",
            "105/105 [==============================] - 0s 183us/step - loss: 0.4741 - acc: 0.8095\n",
            "Epoch 27/50\n",
            "105/105 [==============================] - 0s 195us/step - loss: 0.4634 - acc: 0.8190\n",
            "Epoch 28/50\n",
            "105/105 [==============================] - 0s 172us/step - loss: 0.4551 - acc: 0.8190\n",
            "Epoch 29/50\n",
            "105/105 [==============================] - 0s 193us/step - loss: 0.4470 - acc: 0.8286\n",
            "Epoch 30/50\n",
            "105/105 [==============================] - 0s 187us/step - loss: 0.4394 - acc: 0.8286\n",
            "Epoch 31/50\n",
            "105/105 [==============================] - 0s 183us/step - loss: 0.4325 - acc: 0.8286\n",
            "Epoch 32/50\n",
            "105/105 [==============================] - 0s 171us/step - loss: 0.4258 - acc: 0.8286\n",
            "Epoch 33/50\n",
            "105/105 [==============================] - 0s 148us/step - loss: 0.4193 - acc: 0.8286\n",
            "Epoch 34/50\n",
            "105/105 [==============================] - 0s 172us/step - loss: 0.4127 - acc: 0.8381\n",
            "Epoch 35/50\n",
            "105/105 [==============================] - 0s 225us/step - loss: 0.4057 - acc: 0.8381\n",
            "Epoch 36/50\n",
            "105/105 [==============================] - 0s 192us/step - loss: 0.3985 - acc: 0.8381\n",
            "Epoch 37/50\n",
            "105/105 [==============================] - 0s 163us/step - loss: 0.3904 - acc: 0.8381\n",
            "Epoch 38/50\n",
            "105/105 [==============================] - 0s 178us/step - loss: 0.3831 - acc: 0.8381\n",
            "Epoch 39/50\n",
            "105/105 [==============================] - 0s 172us/step - loss: 0.3762 - acc: 0.8476\n",
            "Epoch 40/50\n",
            "105/105 [==============================] - 0s 143us/step - loss: 0.3688 - acc: 0.8762\n",
            "Epoch 41/50\n",
            "105/105 [==============================] - 0s 167us/step - loss: 0.3624 - acc: 0.8762\n",
            "Epoch 42/50\n",
            "105/105 [==============================] - 0s 172us/step - loss: 0.3544 - acc: 0.8762\n",
            "Epoch 43/50\n",
            "105/105 [==============================] - 0s 180us/step - loss: 0.3472 - acc: 0.8762\n",
            "Epoch 44/50\n",
            "105/105 [==============================] - 0s 178us/step - loss: 0.3405 - acc: 0.8762\n",
            "Epoch 45/50\n",
            "105/105 [==============================] - 0s 171us/step - loss: 0.3348 - acc: 0.8762\n",
            "Epoch 46/50\n",
            "105/105 [==============================] - 0s 206us/step - loss: 0.3278 - acc: 0.8762\n",
            "Epoch 47/50\n",
            "105/105 [==============================] - 0s 173us/step - loss: 0.3204 - acc: 0.8952\n",
            "Epoch 48/50\n",
            "105/105 [==============================] - 0s 195us/step - loss: 0.3128 - acc: 0.9048\n",
            "Epoch 49/50\n",
            "105/105 [==============================] - 0s 201us/step - loss: 0.3061 - acc: 0.9048\n",
            "Epoch 50/50\n",
            "105/105 [==============================] - 0s 178us/step - loss: 0.2987 - acc: 0.9143\n"
          ],
          "name": "stdout"
        },
        {
          "output_type": "execute_result",
          "data": {
            "text/plain": [
              "<keras.callbacks.History at 0x7f9e7e01a2b0>"
            ]
          },
          "metadata": {
            "tags": []
          },
          "execution_count": 20
        }
      ]
    },
    {
      "cell_type": "code",
      "metadata": {
        "id": "8GXXyIgep1ox",
        "colab_type": "code",
        "colab": {
          "base_uri": "https://localhost:8080/",
          "height": 51
        },
        "outputId": "f05a22a8-5193-4014-aee3-c8a518b6dc98"
      },
      "source": [
        "#evaluating the model \n",
        "score = model.evaluate(x_test,y_test, verbose=0)\n",
        " print('Test loss:', score[0])\n",
        " print('Test accuracy:', score[1])"
      ],
      "execution_count": 21,
      "outputs": [
        {
          "output_type": "stream",
          "text": [
            "Test loss: 0.27153825097613865\n",
            "Test accuracy: 0.9111111124356588\n"
          ],
          "name": "stdout"
        }
      ]
    }
  ]
}